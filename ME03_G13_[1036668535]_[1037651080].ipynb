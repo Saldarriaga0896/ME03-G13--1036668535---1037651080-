{
  "nbformat": 4,
  "nbformat_minor": 0,
  "metadata": {
    "colab": {
      "provenance": [],
      "include_colab_link": true
    },
    "kernelspec": {
      "name": "python3",
      "display_name": "Python 3"
    },
    "language_info": {
      "name": "python"
    }
  },
  "cells": [
    {
      "cell_type": "markdown",
      "metadata": {
        "id": "view-in-github",
        "colab_type": "text"
      },
      "source": [
        "<a href=\"https://colab.research.google.com/github/Saldarriaga0896/ME03_G13_1036668535_1037651080/blob/main/ME03_G13_%5B1036668535%5D_%5B1037651080%5D.ipynb\" target=\"_parent\"><img src=\"https://colab.research.google.com/assets/colab-badge.svg\" alt=\"Open In Colab\"/></a>"
      ]
    },
    {
      "cell_type": "markdown",
      "source": [
        "## 1. Definición características de los datos para que puedan ser procesados\n"
      ],
      "metadata": {
        "id": "8mDs43zcTZ1V"
      }
    },
    {
      "cell_type": "markdown",
      "source": [
        "- Los datos los proveerá el usuario de diferentes fuentes, deben guardase en la ruta data/nombre_archivo.csv en formato csv.\n",
        "\n",
        "- Tratamiento de fechas: El proyecto no está diseñado para dar un correcto tratamiento a los diferentes formatos de fecha que existen. Si la fecha es un atributo importante para tu análisis, se recomienda dividir los atributos en diferentes columnas, por ejemplo: año, mes, día, hora, etc. De lo contrario deberá eliminar la columna de forma manual o indicandola en el archivo de config.json\n",
        "\n",
        "- Características compuestas: Si una columna del dataset contiene datos compuestos por valores y unidades se debe indicar la unidad en el nombre de la columna y en los registros dejar solo los valores correspondientes. Por ejemplo: Distancia = [15 km, 12 km, 20000 m] se debe transformar algo como Distancia (km) = [15, 12, 20]. Si el usuario omite esta recomendación el procesador identificará de forma automática las carectetisticas con esta particularidad y le mostrará al usuario la opción de eliminarla o realizar el tratamiento manual.\n",
        "\n",
        "- Textos complejos: El proyecto no está diseñado para procesar textos complejos como noticias, articulos, oraciones, etc. Solo se admiten categorías bien definidas.\n",
        "\n",
        "- Los columnas con grandes cantidades de nulos, se dejarán aparte en una lista para que el usuario defina que preprocesamiento aplicar para dichas columnas o si desea eliminarlas."
      ],
      "metadata": {
        "id": "kOanTKPjw7ct"
      }
    },
    {
      "cell_type": "markdown",
      "source": [
        "## 2. Dataset usado para el momento evaluativo"
      ],
      "metadata": {
        "id": "5dktYR_Bw-lR"
      }
    },
    {
      "cell_type": "markdown",
      "source": [
        "El dataset llamado \"Bank Marketing\" fue obtenido desde UC Irvine Machine Learning Repository (https://archive.ics.uci.edu/dataset/222/bank+marketing).\n",
        "\n",
        "Este dataset contiene información de una campaña telefónica de marketing de un banco Portugués. La variable objetivo es la respuesta a si un cliente suscribirá un depósito a plazo.\n",
        "\n",
        "En este caso el dataset nos presenta un problema de clasificación.\n",
        "\n",
        "Las variables del dataset son:\n",
        "\n",
        "- age: Edad del cliente\n",
        "- job: Tipo de trabajo (categórico: 'admin.','blue-collar','empresario','housemaid','gestión','retirado','autónomo','servicios','estudiante','técnico','desempleado','desconocido')\n",
        "- marital: Estado civil (categórico: 'divorciado','casado','soltero','desconocido'; nota: 'divorciado' significa divorciado o viudo)\n",
        "- education: Nivel de Educación\t(categórico: 'basic.4y','basic.6y','basic.9y','high.school','illiterate','professional.course','university.degree','unknown')\n",
        "- default: ¿Tiene crédito en incumplimiento?\n",
        "- balance: Saldo medio anual en euros\n",
        "- housing: ¿Tiene préstamo de vivienda?\n",
        "- loan: ¿Tiene préstamo personal?\n",
        "- contact: Tipo de comunicación de contacto (categórico: 'celular','telefono')\n",
        "- day_of_week: Último día de contacto de la semana\n",
        "- month: último mes de contacto del año (categórico: 'jan', 'feb', 'mar', ..., 'nov', 'dec')\n",
        "- duration:\tDuración del último contacto, en segundos (numérico)\n",
        "- campaign: Número de contactos realizados durante esta campaña y para este cliente (numérico, incluye último contacto)\n",
        "- pdays:\tNúmero de días que pasaron después de que el cliente fue contactado por última vez de una campaña anterior (numérico; - 1 significa que el cliente no fue contactado previamente)\n",
        "- previous:\tNúmero de contactos realizados antes de esta campaña y para este cliente\n",
        "- poutcome:\tResultado de la campaña de marketing anterior (categorical: 'failure','nonexistent','success')\n",
        "- y: ¿El cliente ha suscrito un depósito a plazo? (Variable objetivo)"
      ],
      "metadata": {
        "id": "WJYlcPfew_dp"
      }
    },
    {
      "cell_type": "markdown",
      "source": [
        "## 3. Ejecución"
      ],
      "metadata": {
        "id": "f3BhY2BAxCWA"
      }
    },
    {
      "cell_type": "markdown",
      "source": [
        "#### 3.1 Clonar el repositorio"
      ],
      "metadata": {
        "id": "euE-eZE-xEAO"
      }
    },
    {
      "cell_type": "code",
      "source": [
        "!git clone https://github.com/Saldarriaga0896/ME03_G13_1036668535_1037651080.git"
      ],
      "metadata": {
        "id": "0nfGvm8y42sC"
      },
      "execution_count": null,
      "outputs": []
    },
    {
      "cell_type": "markdown",
      "source": [
        "#### 3.2 Instalar las dependencias"
      ],
      "metadata": {
        "id": "zU5SM0NYxIgx"
      }
    },
    {
      "cell_type": "code",
      "source": [
        "!pip install -r /content/ME03_G13_1036668535_1037651080/requirements.txt"
      ],
      "metadata": {
        "id": "Pf9TlBpdVRN5"
      },
      "execution_count": null,
      "outputs": []
    },
    {
      "cell_type": "markdown",
      "source": [
        "#### 3.3 Importar librerias y dependencias"
      ],
      "metadata": {
        "id": "d1YGH6ZwxJXi"
      }
    },
    {
      "cell_type": "code",
      "execution_count": null,
      "metadata": {
        "id": "CbK7HLTEhqhk"
      },
      "outputs": [],
      "source": [
        "import pandas as pd\n",
        "import json\n",
        "import sys\n",
        "from ME03_G13_1036668535_1037651080.src.PreprocessingModule import DataPreprocessor"
      ]
    },
    {
      "cell_type": "markdown",
      "source": [
        "#### 3.4 Cargar parámetros de uso"
      ],
      "metadata": {
        "id": "QkPC_Jy6xNBH"
      }
    },
    {
      "cell_type": "code",
      "source": [
        "def load_params(config_file):\n",
        "  with open(config_file, 'r') as f:\n",
        "      config = json.load(f)\n",
        "  return config"
      ],
      "metadata": {
        "id": "1_e75UWDqxi0"
      },
      "execution_count": null,
      "outputs": []
    },
    {
      "cell_type": "markdown",
      "source": [
        "#### 3.5 Definir variables globales"
      ],
      "metadata": {
        "id": "YLaW7gZAxPmj"
      }
    },
    {
      "cell_type": "code",
      "source": [
        "config_file = '/content/ME03_G13_1036668535_1037651080/config.json'\n",
        "config = load_params(config_file)\n",
        "function = config.get(\"function\")\n",
        "model_type = config.get(\"model_type\")\n",
        "target_column = config.get(\"target_column\")\n",
        "\n",
        "path_transforms = '/content/ME03_G13_1036668535_1037651080/data/' +config.get('project_name')\n",
        "path_predict = '/content/ME03_G13_1036668535_1037651080/data/predict_' + config.get('project_name')\n",
        "\n",
        "#---------------------------------------------------------------#\n",
        "#---------------------- Cargar instancias ----------------------#\n",
        "#---------------------------------------------------------------#\n",
        "preprocessor = DataPreprocessor(config)"
      ],
      "metadata": {
        "id": "GldGWz4esom5"
      },
      "execution_count": null,
      "outputs": []
    },
    {
      "cell_type": "markdown",
      "source": [
        "#### 3.6 Aplicar transformaciones al DataSet"
      ],
      "metadata": {
        "id": "2rpSnboLxSUk"
      }
    },
    {
      "cell_type": "code",
      "source": [
        "print(\"------- Preprocesamiento de los datos -------------\")\n",
        "\n",
        "# Carga del dataset y configuraciones\n",
        "df = preprocessor.load_dataset()\n",
        "# Descripción de los datos\n",
        "preprocessor.descriptive_analysis(df)\n",
        "# Validar datos\n",
        "preprocessor.validate_data()\n",
        "# Manejo de columnas que no se pueden procesar\n",
        "preprocessor.check_abnormal_columns()\n",
        "# Eliminar datos atipicos de las variables numericas\n",
        "preprocessor.remove_outliers_zscore()\n",
        "df2= preprocessor.get_processed_dataframe()\n",
        "# Descripción de los datos\n",
        "preprocessor.descriptive_analysis(df2)\n",
        "# Guardar un porcentaje de datos para predicciones\n",
        "preprocessor.split_data_for_predictions(path_predict)\n",
        "# Ajustar el preprocesador a los datos\n",
        "preprocessor.fit()\n",
        "# Transformar los datos de entrenamiento\n",
        "preprocessor.transform()\n",
        "# Seleccion de caracteristicas representativas\n",
        "preprocessor.select_features()\n",
        "# Guardar transformadores\n",
        "preprocessor.save_transformers(path_transforms)\n",
        "# Obtener las variables predictoras \"X\" y a predecir \"y\" procesadas.\n",
        "df_processed = preprocessor.get_processed_dataframe()\n",
        "print(df_processed)\n",
        "df_processed.to_csv('/content/ME03_G13_1036668535_1037651080/data/' + config.get('project_name') + '_processed.csv', index = False)"
      ],
      "metadata": {
        "id": "d4dHcfJftkCc"
      },
      "execution_count": null,
      "outputs": []
    }
  ]
}