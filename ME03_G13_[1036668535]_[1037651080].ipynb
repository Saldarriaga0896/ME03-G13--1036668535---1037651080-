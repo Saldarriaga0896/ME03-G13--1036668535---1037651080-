{
  "nbformat": 4,
  "nbformat_minor": 0,
  "metadata": {
    "colab": {
      "provenance": [],
      "authorship_tag": "ABX9TyNOCNwM5giTDdaVVMIKDSqR",
      "include_colab_link": true
    },
    "kernelspec": {
      "name": "python3",
      "display_name": "Python 3"
    },
    "language_info": {
      "name": "python"
    }
  },
  "cells": [
    {
      "cell_type": "markdown",
      "metadata": {
        "id": "view-in-github",
        "colab_type": "text"
      },
      "source": [
        "<a href=\"https://colab.research.google.com/github/Saldarriaga0896/ME03_G13_1036668535_1037651080/blob/main/ME03_G13_%5B1036668535%5D_%5B1037651080%5D.ipynb\" target=\"_parent\"><img src=\"https://colab.research.google.com/assets/colab-badge.svg\" alt=\"Open In Colab\"/></a>"
      ]
    },
    {
      "cell_type": "code",
      "source": [
        "!git clone https://github.com/Saldarriaga0896/ME03_G13_1036668535_1037651080.git"
      ],
      "metadata": {
        "id": "0nfGvm8y42sC"
      },
      "execution_count": null,
      "outputs": []
    },
    {
      "cell_type": "code",
      "execution_count": 9,
      "metadata": {
        "id": "CbK7HLTEhqhk"
      },
      "outputs": [],
      "source": [
        "import pandas as pd\n",
        "import json\n",
        "import sys\n",
        "from ME03_G13_1036668535_1037651080.src.PreprocessingModule import DataPreprocessor"
      ]
    },
    {
      "cell_type": "code",
      "source": [
        "def load_params(config_file):\n",
        "  with open(config_file, 'r') as f:\n",
        "      config = json.load(f)\n",
        "  return config"
      ],
      "metadata": {
        "id": "1_e75UWDqxi0"
      },
      "execution_count": 10,
      "outputs": []
    },
    {
      "cell_type": "code",
      "source": [
        "config_file = '/content/ME03_G13_1036668535_1037651080/config.json'\n",
        "config = load_params(config_file)\n",
        "function = config.get(\"function\")\n",
        "model_type = config.get(\"model_type\")\n",
        "target_column = config.get(\"target_column\")\n",
        "\n",
        "path_transforms = '/content/ME03_G13_1036668535_1037651080/data/' +config.get('project_name')\n",
        "path_predict = '/content/ME03_G13_1036668535_1037651080/data/predict_' + config.get('project_name')\n",
        "\n",
        "#---------------------------------------------------------------#\n",
        "#---------------------- Cargar instancias ----------------------#\n",
        "#---------------------------------------------------------------#\n",
        "preprocessor = DataPreprocessor(config)"
      ],
      "metadata": {
        "id": "GldGWz4esom5"
      },
      "execution_count": 16,
      "outputs": []
    },
    {
      "cell_type": "code",
      "source": [
        "print(\"------- Preprocesamiento de los datos -------------\")\n",
        "\n",
        "# Carga del dataset y configuraciones\n",
        "preprocessor.load_dataset()\n",
        "# Descripción de los datos\n",
        "#preprocessor.descriptive_analysis()\n",
        "\n",
        "# Guardar un porcentaje de datos para predicciones\n",
        "preprocessor.split_data_for_predictions(path_predict)\n",
        "# Eliminar datos atipicos de las variables numericas\n",
        "preprocessor.remove_outliers_zscore()\n",
        "# Ajustar el preprocesador a los datos\n",
        "preprocessor.fit()\n",
        "# Transformar los datos de entrenamiento\n",
        "preprocessor.transform()\n",
        "# Seleccion de caracteristicas representativas\n",
        "preprocessor.select_features()\n",
        "# Guardar transformadores\n",
        "preprocessor.save_transformers(path_transforms)\n",
        "\n",
        "# Obtener las variables predictoras X y a predecir y procesadas.\n",
        "X,y = preprocessor.get_processed_dataframe()"
      ],
      "metadata": {
        "id": "d4dHcfJftkCc"
      },
      "execution_count": null,
      "outputs": []
    }
  ]
}
